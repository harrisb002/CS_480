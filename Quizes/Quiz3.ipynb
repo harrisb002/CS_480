{
  "nbformat": 4,
  "nbformat_minor": 0,
  "metadata": {
    "colab": {
      "provenance": [],
      "collapsed_sections": [
        "72_KT9Qc4JyL",
        "0YQPtdMq4NxF",
        "O7tBky4-4U3c",
        "racRZW9N4V3r"
      ],
      "authorship_tag": "ABX9TyMdHShLqcvXtHBp0pXFD2oi",
      "include_colab_link": true
    },
    "kernelspec": {
      "name": "python3",
      "display_name": "Python 3"
    },
    "language_info": {
      "name": "python"
    }
  },
  "cells": [
    {
      "cell_type": "markdown",
      "metadata": {
        "id": "view-in-github",
        "colab_type": "text"
      },
      "source": [
        "<a href=\"https://colab.research.google.com/github/harrisb002/CS_480/blob/main/Quizes/Quiz3.ipynb\" target=\"_parent\"><img src=\"https://colab.research.google.com/assets/colab-badge.svg\" alt=\"Open In Colab\"/></a>"
      ]
    },
    {
      "cell_type": "markdown",
      "source": [
        "### Problem 1\n",
        "Suppose a heuristic function `h` is chosen to be: h(n) = $h^*$(n) for all nodes `n`. What is the total number of nodes expanded by A* search? Why is this choice of `h` not realistic? Can you think of a use for this `h` function?"
      ],
      "metadata": {
        "id": "72_KT9Qc4JyL"
      }
    },
    {
      "cell_type": "markdown",
      "source": [
        "#### Explanation:\n",
        "\n",
        "1. Understanding h(n) = $h^*$(n)\n",
        "\n",
        "   - In ( $A^*$) search, ( h(n) ) is the heuristic estimate of the cost from node ( n ) to the goal. Meanwhile, ( $h^*$(n) ) represents the actual or true cost from ( n ) to the goal.\n",
        "   - If we choose ( h(n) = $h^*$(n) ) for all nodes ( n ), it means that our heuristic is perfectly accurate. This implies that at every node ( n ), the heuristic ( h(n) ) provides the exact cost to reach the goal state.\n",
        "\n",
        "2. **Impact on Node Expansion:**\n",
        "   - With h(n) = $h^*$(n), ( $A^*$ ) becomes fully informed; it knows the exact cost of reaching the goal from any node.\n",
        "   - As a result, $A^*$ will only expand nodes that are on the optimal path because it can directly identify the best path to the goal without needing to explore alternatives.\n",
        "   - The total number of nodes expanded in this case will be minimal, essentially only expanding nodes that lie directly on the optimal path from the start node to the goal node.\n",
        "\n",
        "3. **Why This Choice of ( h ) is Not Realistic:**\n",
        "   - In most search problems, **it is impossible to know the exact cost to reach the goal from every node**. If we had access to $h^*$(n) for all nodes, we **would effectively already know the solution** (or at least have enough information to directly compute it).\n",
        "   - Computing $h^*$(n) requires having all knowledge of the environment and future states, which is ussualy unavailable. It defeats the purpose of using a heuristic, which is meant to provide an estimate rather than an exact cost.\n",
        "   - Additionally, calculating $h^*$(n) for all nodes in a large search space would be computationally infeasible. Heuristics power lies in their ability to approximate the goal cost efficiently without needing to calculate it exactly.\n",
        "\n",
        "4. **Possible Use for h(n) = $h^*$(n):**\n",
        "   - While h(n) = $h^*$(n) is impractical in a real-world scenario, it could be useful in a theoretical context. Specifically, it can **serve as a benchmark for evaluating other heuristic functions**.\n",
        "   - By comparing the performance of a heuristic ( h ) to the ideal scenario (where  h = $h^*$ ), researchers can quantify how much suboptimality is introduced by approximation. In essence, h(n) = $h^*$(n) represents the \"best case\" performance of $A^*$."
      ],
      "metadata": {
        "id": "1kOKlU094_cy"
      }
    },
    {
      "cell_type": "markdown",
      "source": [
        "### Problem 2\n",
        "Consider the problem of sorting a permutation by reversing a prefix in which the cost of the reversal operation is the length of prefix reversed. (This problem is commonly known as the \"pancake sorting\" problem.) Is the function \\( h \\) defined as \"the number of the largest number not in its correct place\" a monotonic heuristic?"
      ],
      "metadata": {
        "id": "0YQPtdMq4NxF"
      }
    },
    {
      "cell_type": "markdown",
      "source": [
        "#### Explanation:\n",
        "\n",
        "1. **Understanding the Pancake Sorting Problem:**\n",
        "   - In the pancake sorting problem, you are given a stack of pancakes of varying sizes in random order. The goal is to sort the pancakes into ascending order of size (smallest on top, largest on the bottom).\n",
        "   - The only operation allowed is reversing the order of the first ( k ) pancakes in the stack, which costs ( k ), the length of the prefix reversed.\n",
        "   - This **problem can be thought of as a permutation sorting problem**, where each reversal operation alters the order of elements in the permutation.\n",
        "\n",
        "2. **Heuristic Definition - ( h ):**\n",
        "   - The **heuristic ( h )** is defined as **“the number of the largest number not in its correct place.”** This means ( h ) counts how many elements are larger than the largest correctly placed element in the sorted position.\n",
        "   - For example, if the largest pancake not in the correct position is 5, then ( h ) is the count of numbers greater than or equal to 5 that are not in the correct position.\n",
        "\n",
        "3. **Monotonicity Requirement:**\n",
        "   - A heuristic h(n) is monotonic (or consistent) if, for any node ( n ) and any successor ( n' ) of ( n ) obtained by an action ( a ), the following inequality holds:\n",
        "     `[h(n) <= c(n, n') + h(n')]`\n",
        "     where `c(n, n')`  is the cost of moving from ( n ) to ( n' ).\n",
        "   - In this context, ( c(n, n') ) would be the cost of a single reversal operation.\n",
        "   - Intuitively, a monotonic heuristic should not \"overestimate\" the distance between states as you progress toward the goal. Each step closer to the goal should either maintain or decrease the heuristic value.\n",
        "\n",
        "4. **Applying Monotonicity to ( h ):**\n",
        "The key here is that the cost c(n, n') is always equal to or greater than the decrease in h. Since a prefix reversal either:\n",
        " - Decreases h, by improving the stack order which is balanced by the addition of k OR\n",
        " - leaves h unchanged in which case c(n, n') + h(s') naturally meets or exceeds\n",
        " h(s)\n",
        "### Conclusion\n",
        "The function ( h ) defined as \"the number of the largest number not in its correct place\" **is a monotonic heuristic** for the pancake sorting problem. This is because the heuristic satisfies the condition `h(s) <= c(s, s') + h(s')` in all possible cases."
      ],
      "metadata": {
        "id": "sRiBf9yD4_-e"
      }
    },
    {
      "cell_type": "markdown",
      "source": [
        "### Problem 3\n",
        "   - (a) Exhibit an example in which a non-admissible heuristic results in a sub-optimal solution for best-first search algorithm.\n",
        "   - (b) Exhibit an example in which a non-admissible heuristic results in an optimal solution for best-first search algorithm."
      ],
      "metadata": {
        "id": "Wp3EaS6L4QGv"
      }
    },
    {
      "cell_type": "markdown",
      "source": [
        "#### a Example of a Non-Admissible Heuristic Leading to a Sub-Optimal Solution\n",
        "\n",
        "#### Graph Structure:\n",
        "- **Nodes**:  A ,  B ,  C ,  G  Goal\n",
        "- **Edges and Costs**:\n",
        "  -  A => B : cost = 1\n",
        "  -  A => C : cost = 2\n",
        "  -  B => G : cost = 3\n",
        "  -  C => G : cost = 1\n",
        "\n",
        "#### True Heuristic Values  h*  Accurate Cost to Goal:\n",
        "  -  h*A = 3\n",
        "  -  h*B = 3\n",
        "  -  h*C = 1\n",
        "  -  h*G = 0\n",
        "\n",
        "#### Non-Admissible Heuristic Values  h  Overestimate:\n",
        "  -  h(A) = 3\n",
        "  -  h(B) = 3\n",
        "  -  h(C)= 4  **Overestimate**\n",
        "  -  h(G)= 0\n",
        "\n",
        "Here, the heuristic  h(C) = 4  overestimates the actual cost from  C  to  G  true cost is 1. Since this overestimation does not satisfy  h(n) <= h*(n) , the heuristic is **non-admissible**.\n",
        "\n",
        "---\n",
        "#### Path Analysis Using Best-First Search\n",
        "\n",
        "1. **Starting at  A **:\n",
        "   - **To  B **: Estimated cost =  g(A), B + h(B) = 1 + 3 = 4\n",
        "   - **To  C **: Estimated cost =  g(A), C + h(C) = 2 + 4 = 6\n",
        "   - **Decision**:  B  is chosen because it has a lower estimated cost 4 vs. 6.\n",
        "\n",
        "2. **Move to  B **:\n",
        "   - **To  G **: Total path cost =  g(A), B + g(B), G = 1 + 3 = 4\n",
        "   - **Path Found**:  A => B => G , with a total cost of 4.\n",
        "\n",
        "3. **Re-Evaluation of Path Optimality**:\n",
        "  - The optimal path from  A  to  G  is actually  A => C => G , with a cost of  2 + 1 = 3 . However, the algorithm does not choose this path due to the overestimate on  h(C) , leading it to select the sub-optimal path  A => B => G .\n",
        "---"
      ],
      "metadata": {
        "id": "jwCgYJdg5Dwo"
      }
    },
    {
      "cell_type": "markdown",
      "source": [
        "#### (b) Exhibit an example in which a non-admissible heuristic results in an optimal solution for best-first search algorithm.\n",
        "\n",
        "### Graph Structure:\n",
        "- **Nodes**: (A), (B), (C), (G) (Goal)\n",
        "- **Edges and Costs**:\n",
        "  - A => B: cost = 1\n",
        "  - A => C: cost = 2\n",
        "  - B => G: cost = 3\n",
        "  - C => G: cost = 1\n",
        "\n",
        "### True Heuristic Values (h*) Accurate Cost to Goal:\n",
        "  - h*(A) = 3\n",
        "  - h*(B) = 3\n",
        "  - h*(C) = 1\n",
        "  - h*(G) = 0\n",
        "\n",
        "### Non-Admissible Heuristic Values ((h)) Overestimate:\n",
        "  - h(A) = 3\n",
        "  - h(B) = 5 (**Overestimate**)\n",
        "  - h(C) = 2 (**Overestimate**)\n",
        "  - h(G) = 0\n",
        "\n",
        "In this scenario, the heuristic h(B) = 5 overestimates the actual cost from (B) to (G) (true cost is 3). Therefore, (h) is **non-admissible** because it does not satisfy h(n) <= h*(n) for all nodes.\n",
        "\n",
        "---\n",
        "\n",
        "### Path Analysis Using Best-First Search\n",
        "\n",
        "1. **Starting at (A)**:\n",
        "   - **To (B)**: Estimated cost = g(A, B) + h(B) = 1 + 5 = 6\n",
        "   - **To (C)**: Estimated cost = g(A, C) + h(C) = 2 + 2 = 4\n",
        "   - **Decision**: (C) is chosen because it has a lower estimated cost (4) vs. (6).\n",
        "\n",
        "2. **Move to (C)**:\n",
        "   - **To (G)**: Total path cost = g(A, C) + g(C, G) = 2 + 1 = 3\n",
        "   - **Path Found**: (A => C => G), with a total cost of (3).\n",
        "\n",
        "3. **Re-Evaluation of Path Optimality**:\n",
        "   - **Actual Optimal Path**: Despite the overestimation on h(B), the algorithm selected (A => C => G), which has a total cost of (3).\n",
        "   - **Comparison**: Although the heuristic h(C) is non-admissible, it led the algorithm to avoid (B) and prioritize (C) regardless, ultimately yielding an optimal path based on the true path cost.\n",
        "\n",
        "In this example, the **non-admissible heuristic** still led to an optimal solution. The best-first search algorithm avoided node (B) due to the overestimated heuristic, but since the optimal path (A => C => G) was available, the search arrived at the correct solution.\n",
        "\n",
        "---"
      ],
      "metadata": {
        "id": "rOikkR7xSRvo"
      }
    },
    {
      "cell_type": "markdown",
      "source": [
        "### Problem 4\n",
        " If \\( h_1 \\) and \\( h_2 \\) are admissible heuristics, which of the following are guaranteed to be admissible?\n",
        "\n",
        "- (a) h(n) = $h_1(n) + h_2(n)$\n",
        "\n",
        "- (b) h(n) = $\\frac{h_1(n) + h_2(n)}{2}$\n",
        "\n",
        "- (c) h(n) = $h_1(n) * h_2(n)$  \n",
        "\n",
        "- (d) h(n) = $\\sqrt{h_1(n) * h_2(n)}$\n",
        "\n"
      ],
      "metadata": {
        "id": "O7tBky4-4U3c"
      }
    },
    {
      "cell_type": "markdown",
      "source": [
        "- (a) h(n) = $h_1(n) + h_2(n)$ -> `Not admissible`\n",
        " - Adding two admissible heuristics can exceed the true cost, potentially doubling the estimate beyond h*(n).\n",
        "\n",
        "- (b) h(n) = $\\frac{h_1(n) + h_2(n)}{2}$ -> `Admissible`\n",
        " - Averaging two admissible heuristics maintains a bound within h*(n), preserving admissibility.\n",
        "\n",
        "- (c) h(n) = $h_1(n) * h_2(n)$ -> `Not admissible`\n",
        " - The product of two admissible heuristics can result in an estimate much greater than h*(n), breaking admissibility.\n",
        "\n",
        "- (d) h(n) = $\\sqrt{h_1(n) * h_2(n)}$ -> `Admissible`\n",
        " - The square root of the product of two admissible heuristics is always bounded by h*(n), ensuring admissibility."
      ],
      "metadata": {
        "id": "PuRWU1KEq7ai"
      }
    },
    {
      "cell_type": "markdown",
      "source": [
        "### Problem 5\n",
        "Answer (4) if \\( h_1 \\) and \\( h_2 \\) are monotonic (instead of admissible).\n"
      ],
      "metadata": {
        "id": "racRZW9N4V3r"
      }
    },
    {
      "cell_type": "markdown",
      "source": [
        "- **(a) h(n) = $h_1(n) + h_2(n)$**: `Not guaranteed to be monotonic or admissible`, as the sum can overestimate the true cost.\n",
        "\n",
        "- **(b) h(n) = $\\frac{h_1(n) + h_2(n)}{2}$**: `Guaranteed to be both monotonic and admissible`, as averaging preserves bounds on the true cost.\n",
        "\n",
        "- **(c) h(n) = $h_1(n) * h_2(n)$**: `Not guaranteed to be monotonic or admissible`, as the product can exceed the true cost due to non-linear growth.\n",
        "a\n",
        "- **(d) h(n) = $\\sqrt{h_1(n) * h_2(n)}$ **: `Guaranteed to be admissible`, but `not guaranteed to be monotonic` due to non-linear behavior."
      ],
      "metadata": {
        "id": "PEaBhDrB5E6X"
      }
    }
  ]
}