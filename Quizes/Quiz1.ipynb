{
  "nbformat": 4,
  "nbformat_minor": 0,
  "metadata": {
    "colab": {
      "provenance": [],
      "collapsed_sections": [
        "nUGkDWK_hoh9",
        "l3j9lS9Ihwy1",
        "m7U2HKNIhzgC",
        "VqjH6Cbyh2Ax",
        "gShuy-9Eh4Gi"
      ],
      "authorship_tag": "ABX9TyMd34qDHlwORqRE1LbrZUwb",
      "include_colab_link": true
    },
    "kernelspec": {
      "name": "python3",
      "display_name": "Python 3"
    },
    "language_info": {
      "name": "python"
    }
  },
  "cells": [
    {
      "cell_type": "markdown",
      "metadata": {
        "id": "view-in-github",
        "colab_type": "text"
      },
      "source": [
        "<a href=\"https://colab.research.google.com/github/harrisb002/CS_480/blob/main/Quizes/Quiz1.ipynb\" target=\"_parent\"><img src=\"https://colab.research.google.com/assets/colab-badge.svg\" alt=\"Open In Colab\"/></a>"
      ]
    },
    {
      "cell_type": "markdown",
      "source": [
        "\n",
        "---\n",
        "\n",
        "### Question 1:\n",
        "\n",
        "**What is the main difference between supervised learning and unsupervised learning?**\n",
        "\n",
        "- (a) The former has a higher time complexity than the latter.\n",
        "- (b) The former requires more storage than the latter.\n",
        "- (c) The former requires more time to preprocess the data than the latter.\n",
        "- (d) The former requires labeled data to train the algorithm."
      ],
      "metadata": {
        "id": "nUGkDWK_hoh9"
      }
    },
    {
      "cell_type": "markdown",
      "source": [
        "**Answer:** (d) The former requires labeled data to train the algorithm.\n",
        "\n",
        "**Explanation:**  \n",
        "Supervised learning involves training an algorithm on a labeled dataset, where each input has a corresponding output. The model learns to map inputs to outputs. Unsupervised learning, on the other hand, works with unlabeled data and tries to find hidden patterns or intrinsic structures within the data.\n",
        "\n",
        "---"
      ],
      "metadata": {
        "id": "hifnW5Zqh8HK"
      }
    },
    {
      "cell_type": "markdown",
      "source": [
        "\n",
        "### Question 2:\n",
        "\n",
        "**What was the novel feature of the program designed by Samuel Arthur to play checkers?**\n",
        "\n",
        "- (a) It used a priority queue.\n",
        "- (b) It used a genetic algorithm.\n",
        "- (c) Self-improvement through experience.\n",
        "- (d) Incorporating human expert knowledge in checker playing.\n",
        "\n",
        "---"
      ],
      "metadata": {
        "id": "l3j9lS9Ihwy1"
      }
    },
    {
      "cell_type": "markdown",
      "source": [
        "**Answer:** (c) Self-improvement through experience.\n",
        "\n",
        "**Explanation:**  \n",
        "Samuel Arthur's checkers program was one of the first to use a learning mechanism to improve its performance over time. The program could modify its strategy based on experience, making it more effective at playing checkers as it played more games."
      ],
      "metadata": {
        "id": "CzE7WwJkigX4"
      }
    },
    {
      "cell_type": "markdown",
      "source": [
        "### Question 3:\n",
        "\n",
        "**What is the main difference between informed search and uninformed search?**\n",
        "\n",
        "- (a) The former uses a stack while the latter uses a queue.\n",
        "- (b) The former is more efficient than the latter.\n",
        "- (c) The former uses an estimate of distance to the solution in the search process.\n",
        "- (d) The latter uses machine learning.\n",
        "\n",
        "---"
      ],
      "metadata": {
        "id": "m7U2HKNIhzgC"
      }
    },
    {
      "cell_type": "markdown",
      "source": [
        "**Answer:** (c) The former uses an estimate of distance to the solution in the search process.\n",
        "\n",
        "**Explanation:**  \n",
        "Informed search algorithms, like A* search, use heuristics to estimate the cost of reaching the goal from a given state, making them more efficient in finding solutions. Uninformed search methods, like Breadth-First Search (BFS) or Depth-First Search (DFS), do not have additional information about the goal's location and explore the search space blindly."
      ],
      "metadata": {
        "id": "tCT5iiKfijty"
      }
    },
    {
      "cell_type": "markdown",
      "source": [
        "### Question 4:\n",
        "\n",
        "**Which of the following is the main goal of the Turing test?**\n",
        "\n",
        "- (a) Test the effectiveness of training by learning algorithms.\n",
        "- (b) Test the limit of human intelligence.\n",
        "- (c) Test the advance in AI.\n",
        "- (d) Understanding how well humans and computers can interact.\n",
        "\n",
        "---"
      ],
      "metadata": {
        "id": "VqjH6Cbyh2Ax"
      }
    },
    {
      "cell_type": "markdown",
      "source": [
        "**Answer:** (c) Test the advance in AI.\n",
        "\n",
        "**Explanation:**  \n",
        "The Turing test, proposed by Alan Turing, aims to determine whether a machine can exhibit intelligent behavior indistinguishable from that of a human. If a human evaluator cannot reliably tell the machine from the human, the machine is said to have passed the test."
      ],
      "metadata": {
        "id": "0n_B9YdiinVO"
      }
    },
    {
      "cell_type": "markdown",
      "source": [
        "\n",
        "### Question 5:\n",
        "\n",
        "**Exhibit the contents of the queue Q (as an array of size 5) after the following sequence of operations: insert(12), insert(10), insert(21), insert(9), delete, delete, insert(8), insert(7), delete.**\n",
        "\n",
        "---\n",
        "\n",
        "```\n",
        "boolean IsEmpty(Q):\n",
        "\n",
        "  if Q.current_size == 0\n",
        "\n",
        "    return true\n",
        "\n",
        "  else\n",
        "\n",
        "    return false\n",
        "```\n",
        "```\n",
        "boolean isFull(Q):\n",
        "\n",
        "  if Q.size == Q.current_size\n",
        "\n",
        "    return true\n",
        "\n",
        "  else\n",
        "\n",
        "    return false\n",
        "```\n",
        "```\n",
        "int delete(Q):\n",
        "\n",
        "   save = Q[rear]\n",
        "\n",
        "   rear++\n",
        "\n",
        "   if rear == Q.size\n",
        "\n",
        "      rear = 0\n",
        "\n",
        "   current_size--\n",
        "\n",
        "   return save\n",
        "```\n",
        "```\n",
        "void insert(Q, x):\n",
        "\n",
        "   front = front++\n",
        "\n",
        "   if front == Q.size\n",
        "\n",
        "     front = 0\n",
        "\n",
        "   current_size++\n",
        "\n",
        "   Q[front] = x\n",
        "```"
      ],
      "metadata": {
        "id": "gShuy-9Eh4Gi"
      }
    },
    {
      "cell_type": "markdown",
      "source": [
        "Given the circular queue implementation, follow the ops:\n",
        "\n",
        "1. **Initial State:** [_, _, _, _, _] (all positions are empty)\n",
        "2. **Insert 12:** [12, _, _, _, _] (front = 0, rear = 0)\n",
        "3. **Insert 10:** [12, 10, _, _, _] (front = 1, rear = 0)\n",
        "4. **Insert 21:** [12, 10, 21, _, _] (front = 2, rear = 0)\n",
        "5. **Insert 9:** [12, 10, 21, 9, _] (front = 3, rear = 0)\n",
        "6. **Delete:** [12, 10, 21, 9, _] (front = 3, rear = 1)\n",
        "7. **Delete:** [12, 10, 21, 9, _] (front = 3, rear = 2)\n",
        "8. **Insert 8:** [12, 10, 21, 9, 8] (front = 4, rear = 2)\n",
        "9. **Insert 7:** [7, 10, 21, 9, 8] (front = 0, rear = 2)\n",
        "10. **Delete:** [7, 10, 21, 9, 8] (front = 0, rear = 3)\n",
        "\n",
        "**Final State:** [7, 10, 21, 9, 8] (front = 0, rear = 3)\n",
        "- **REMEMBER** Uses logical deletions by keeping track of front and rear indicies\n",
        "\n",
        "**Explanation:**  \n",
        "- A circular queue is one where the front and rear pointers wrap around when they reach the end of the array. The sequence of ops manipulates the queue's state, showing how elements are added and removed as well as how the front and rear are updated.\n",
        "- Rear: (rear + 1) % size\n"
      ],
      "metadata": {
        "id": "Rrvo0LacirNt"
      }
    }
  ]
}