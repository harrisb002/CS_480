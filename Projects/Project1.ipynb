{
  "nbformat": 4,
  "nbformat_minor": 0,
  "metadata": {
    "colab": {
      "provenance": [],
      "authorship_tag": "ABX9TyPsrDjUFA+nK/KvuTk2F1VF",
      "include_colab_link": true
    },
    "kernelspec": {
      "name": "python3",
      "display_name": "Python 3"
    },
    "language_info": {
      "name": "python"
    }
  },
  "cells": [
    {
      "cell_type": "markdown",
      "metadata": {
        "id": "view-in-github",
        "colab_type": "text"
      },
      "source": [
        "<a href=\"https://colab.research.google.com/github/harrisb002/CS_480/blob/main/Projects/Project1.ipynb\" target=\"_parent\"><img src=\"https://colab.research.google.com/assets/colab-badge.svg\" alt=\"Open In Colab\"/></a>"
      ]
    },
    {
      "cell_type": "markdown",
      "source": [
        "# Cylindrical Board Queen Placement\n",
        "This code aims to solve the problem of placing as many additional queens on a cylindrical chessboard such that no queens attack each other, using a recursive version of Depth-First Search (DFS).\n"
      ],
      "metadata": {
        "id": "Kc6IhSHey28f"
      }
    },
    {
      "cell_type": "markdown",
      "source": [
        "### Helper Functions"
      ],
      "metadata": {
        "id": "h7WAtS27y7s1"
      }
    },
    {
      "cell_type": "code",
      "source": [
        "def no_more_queens_can_be_added(board, n):\n",
        "    \"\"\"\n",
        "    Check if no more queens can be added to board.\n",
        "\n",
        "    Parameters:\n",
        "    board (list): The current board.\n",
        "    n (int): The dimension of the board (n x n).\n",
        "\n",
        "    Returns:\n",
        "    bool: True if no more queens can be added, otherwise False.\n",
        "    \"\"\"\n",
        "    # Check if all rows have a queen placed\n",
        "    for row in range(n):\n",
        "        if board[row] == -1:  # Row is still empty.\n",
        "            return False\n",
        "    return True  # Rows are filled; no more queens can be placed."
      ],
      "metadata": {
        "id": "xuJiYJNTy6C_"
      },
      "execution_count": null,
      "outputs": []
    },
    {
      "cell_type": "code",
      "source": [
        "def is_safe(board, row, col, n):\n",
        "    \"\"\"\n",
        "    Check if safe to place a queen on a square.\n",
        "\n",
        "    Parameters:\n",
        "    board (list): The current board.\n",
        "    row (int): The row index where the queen is going to be placed.\n",
        "    col (int): The column index where the queen is going to be placed.\n",
        "    n (int): Board dimension.\n",
        "\n",
        "    Returns:\n",
        "    bool: True if safe to place queen on square, false otherwise\n",
        "    \"\"\"\n",
        "    # Check all prev. queens for attacks.\n",
        "    for r in range(len(board)):\n",
        "        if board[r] == -1:\n",
        "            continue  # Skip rows with no queens.\n",
        "\n",
        "        # Vertical attack: Queen is in the same column.\n",
        "        if board[r] == col:\n",
        "            return False\n",
        "\n",
        "        # Diagonal attack: Queen is on the same diagonal.\n",
        "        if abs(board[r] - col) == abs(r - row):\n",
        "            return False\n",
        "\n",
        "        # Cylindrical diagonal attack:\n",
        "        # Checking if the queen at `(row, col)`\n",
        "        # would be attacked diagonally by a prev. placed queen at (r, board[r])\n",
        "\n",
        "        # Handling cases where columns wrap around from 0 to n-1\n",
        "        #   making sure that neg. differences are absolute valued.\n",
        "        if (board[r] - col + n) % n == abs(r - row):\n",
        "            return False\n",
        "\n",
        "        # Checking the opposite diagonal direction\n",
        "        if (col - board[r] + n) % n == abs(r - row):\n",
        "            return False\n",
        "\n",
        "    return True"
      ],
      "metadata": {
        "id": "8Whj3-9gy_u0"
      },
      "execution_count": null,
      "outputs": []
    },
    {
      "cell_type": "markdown",
      "source": [
        "### Queen Depth First Search\n",
        "- Focuses on solving a variant of the n-queens problem where the chessboard is cylindrical, such that the first and last columns are adjacent.\n",
        "- My goal is to place as many additional queens as possible on a partially filled board without any queens attacking each other.\n",
        "- This involves a Depth-First Search (DFS) solution in which the program handles input that may skip rows and reports the number of nodes explored during the DFS process.\n",
        "\n",
        "\n",
        "- B[i]: Column of a queen in row\n",
        "- -1:   No queen is present in that row.\n",
        "- Retains existing queens from the input and places additional queens in remaining rows, replacing the -1 values.\n",
        "- Skips rows and handles non-sequential queen placements.\n",
        "- Track and report the total # of nodes expanded"
      ],
      "metadata": {
        "id": "hCRYrjM3zAxG"
      }
    },
    {
      "cell_type": "code",
      "execution_count": null,
      "metadata": {
        "id": "3mIRSIrvy0Ni"
      },
      "outputs": [],
      "source": [
        "def c_queensDFS(board, n, nodes_expanded, placed_queens, max_queens):\n",
        "    \"\"\"\n",
        "    Recursive DFS function to solve the cylindrical n-queens problem.\n",
        "\n",
        "    Parameters:\n",
        "    board (list): The current board where each index represents a row,\n",
        "                  the value at each index represents the column where a queen is placed.\n",
        "                  A value of -1 means that no queen is placed in that row.\n",
        "    n (int): The dimension of the chessboard (n x n).\n",
        "    nodes_expanded (list): A single-element list used to track the total number of nodes expanded during DFS.\n",
        "    placed_queens (int): The current number of queens placed on the board.\n",
        "    max_queens (int): The max number of queens that can be placed on the board.\n",
        "\n",
        "    Returns:\n",
        "    tuple: A tuple with the max number of queens placed and the board.\n",
        "    \"\"\"\n",
        "\n",
        "    # Base Case: Stop search if no more queens can be placed on board.\n",
        "    if no_more_queens_can_be_added(board, n):\n",
        "        return placed_queens, board  # Return current count of placed queens and final board.\n",
        "\n",
        "    count = placed_queens  # INit the count of placed queens.\n",
        "    best_solution = board[:]  # Shallow copy of board\n",
        "\n",
        "    # Go through each row of board.\n",
        "    for row in range(n):\n",
        "        if board[row] != -1:  # Skip rows that already have a queen.\n",
        "            continue\n",
        "\n",
        "        # Try and place a queen in each column of current row.\n",
        "        for col in range(n):\n",
        "            if is_safe(board, row, col, n):  # Check if current square is safe.\n",
        "                board[row] = col  # Place queen in current position.\n",
        "\n",
        "                nodes_expanded[0] += 1  # Increment counter for expanded nodes.\n",
        "\n",
        "                # Recursively try to place another queen\n",
        "                temp_count, temp_board = c_queensDFS(board, n, nodes_expanded, placed_queens + 1, max_queens)\n",
        "\n",
        "                # If placing the queen results in a better solution (more queens placed), update the best solution.\n",
        "                if temp_count > count:\n",
        "                    count = temp_count\n",
        "                    best_solution = temp_board[:]\n",
        "\n",
        "                # Backtrack: Remove the queen and try the next possibility.\n",
        "                board[row] = -1\n",
        "\n",
        "        # Early stopping: Stop the search if the maxnum of queens have been placed.\n",
        "        if count == max_queens:\n",
        "            break\n",
        "\n",
        "    return count, best_solution"
      ]
    },
    {
      "cell_type": "markdown",
      "source": [
        "### Main"
      ],
      "metadata": {
        "id": "3AAYWCaSziXB"
      }
    },
    {
      "cell_type": "code",
      "source": [
        "def main():\n",
        "    \"\"\"\n",
        "    Execute cylindrical n-queens DFS solution and print results.\n",
        "\n",
        "    Input board is defined within this function, and DFS is initiated to find max\n",
        "    num of queens that can be placed on the cylindrical chessboard.\n",
        "    \"\"\"\n",
        "    # Init chessboard from the user\n",
        "    board = input(\"Enter the board config (comma-separated values, -1 for empty rows): \")\n",
        "\n",
        "    # Remove square brackets and whitespace, then split by commas and convert to ints\n",
        "    board = list(map(int, board.strip().replace('[', '').replace(']', '').split(',')))\n",
        "\n",
        "    n = len(board)  # Get size of board. (Should be 8x8 ideally)\n",
        "\n",
        "    placed_queens = sum(1 for q in board if q != -1) # Initial num of queens\n",
        "\n",
        "    max_queens = n  # Max num of queens is the size of the board.\n",
        "\n",
        "    nodes_expanded = [1]  # Init counter for num of nodes expanded (start with root)\n",
        "\n",
        "    # Start DFS to find the max num of queens that can be placed.\n",
        "    max_queens_placed, best_solution = c_queensDFS(board, n, nodes_expanded, placed_queens, max_queens)\n",
        "\n",
        "    print(f\"Output: {best_solution, nodes_expanded[0]}\")\n",
        "\n",
        "if __name__ == \"__main__\":\n",
        "    main()"
      ],
      "metadata": {
        "colab": {
          "base_uri": "https://localhost:8080/"
        },
        "id": "81clqdaRzh9n",
        "outputId": "08c6d600-97c8-4994-deaa-5ca04bfc5050"
      },
      "execution_count": null,
      "outputs": [
        {
          "output_type": "stream",
          "name": "stdout",
          "text": [
            "Enter the board config (comma-separated values, -1 for empty rows): [-1, -1, -1, 3, -1, -1, -1, -1]\n",
            "Output: ([1, 4, 0, 3, -1, 2, 5, -1], 66373)\n"
          ]
        }
      ]
    },
    {
      "cell_type": "markdown",
      "source": [
        "#### Current Test Cases (Need More)\n",
        "- Input = [-1, -1, -1, 3, -1, -1, -1, -1]\n",
        "  - Output: (66373, [1, 4, 0, 3, -1, 2, 5, -1])\n",
        "- Input: [-1, -1, 1, 5, -1, -1, -1, -1]\n",
        "  - Output: (1301, [4, 6, 1, 5, 2, 0, -1, -1])"
      ],
      "metadata": {
        "id": "-MlRrGut0GAI"
      }
    }
  ]
}