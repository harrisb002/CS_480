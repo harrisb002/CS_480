{
  "nbformat": 4,
  "nbformat_minor": 0,
  "metadata": {
    "colab": {
      "provenance": [],
      "collapsed_sections": [
        "2YlTDcpcZ2sY"
      ],
      "authorship_tag": "ABX9TyN0KC9lkArfyv2MtTgiSy46",
      "include_colab_link": true
    },
    "kernelspec": {
      "name": "python3",
      "display_name": "Python 3"
    },
    "language_info": {
      "name": "python"
    }
  },
  "cells": [
    {
      "cell_type": "markdown",
      "metadata": {
        "id": "view-in-github",
        "colab_type": "text"
      },
      "source": [
        "<a href=\"https://colab.research.google.com/github/harrisb002/CS_480/blob/main/Projects/Project1.ipynb\" target=\"_parent\"><img src=\"https://colab.research.google.com/assets/colab-badge.svg\" alt=\"Open In Colab\"/></a>"
      ]
    },
    {
      "cell_type": "markdown",
      "source": [
        "# Project 1: Cylindrical Board Queen Placement\n",
        "This project aims to solve the problem of placing as many additional queens on a cylindrical chessboard such that no queens attack each other, using a recursive version of Depth-First Search (DFS).\n"
      ],
      "metadata": {
        "id": "aMJgXOBOYB7P"
      }
    },
    {
      "cell_type": "code",
      "source": [
        "def amazonDFS(B, n):\n",
        "    \"\"\"\n",
        "    'B' is a vector such that B[i] = the col number in which the amazon is placed in row i\n",
        "    'n' is the dimension of the board for which a solution is sought\n",
        "    pre-condition: B is a valid partial solution\n",
        "    \"\"\"\n",
        "    if len(B) == n:   # solved\n",
        "        print(B)\n",
        "        return True\n",
        "    for j in range(n):\n",
        "        # looking for a candidate for B[k] which will be an integer from 0 to n-1\n",
        "        if not(attack(B, n, j)):\n",
        "            B.append(j)\n",
        "            if amazonDFS(B, n):\n",
        "                return True\n",
        "            else:\n",
        "                B.remove(j)\n",
        "    #print(B)\n",
        "    return False"
      ],
      "metadata": {
        "id": "M1uUGrHhbkWq"
      },
      "execution_count": null,
      "outputs": []
    },
    {
      "cell_type": "code",
      "source": [
        "def attack(B, n, j):\n",
        "  \"\"\"\n",
        "  Checks if the cell B[k+1, j] is under attack by the amazons in the first k rows of B\n",
        "  \"\"\"\n",
        "    rowNum = len(B)\n",
        "    for k in range(rowNum): # column attack\n",
        "        if B[k] == j:\n",
        "            #print(\"row\")\n",
        "            return True\n",
        "    curRow = rowNum\n",
        "    for t in range(rowNum):\n",
        "        if abs(curRow-t) == abs(j-B[t]):\n",
        "            return True\n",
        "    return False"
      ],
      "metadata": {
        "id": "tzt_nC6hbm0P"
      },
      "execution_count": null,
      "outputs": []
    },
    {
      "cell_type": "code",
      "execution_count": null,
      "metadata": {
        "id": "URiC8OxYYBc0"
      },
      "outputs": [],
      "source": [
        "# Function to check if two queens attack each other\n",
        "def queens_attack_each_other(board, row1, col1, row2, col2):\n",
        "    \"\"\"\n",
        "    Check if two queens attack each other on the cylindrical board.\n",
        "    Return True if they attack, False otherwise.\n",
        "    \"\"\"\n",
        "    pass  # Need logic to check attacks for cylindrical boards\n"
      ]
    },
    {
      "cell_type": "code",
      "source": [
        "# Function to init the board with input\n",
        "def get_board_input():\n",
        "    \"\"\"\n",
        "    Prompt the user for the board input.\n",
        "    Return a list representing the board.\n",
        "    \"\"\"\n",
        "    pass  # Neef code to handle user input for n × n board"
      ],
      "metadata": {
        "id": "hKgECKyRYm6a"
      },
      "execution_count": null,
      "outputs": []
    },
    {
      "cell_type": "code",
      "source": [
        "# Rec. DFS function for placing queens\n",
        "def cylind_queensDFS(board):\n",
        "    \"\"\"\n",
        "    Given a partially filled board, place additional queens using DFS.\n",
        "    Return the updated board and the number of nodes expanded.\n",
        "    \"\"\"\n",
        "    pass  # Need to do lol\n"
      ],
      "metadata": {
        "id": "9wDe2ckzYy39"
      },
      "execution_count": null,
      "outputs": []
    },
    {
      "cell_type": "code",
      "source": [
        "# Function to check if cell is valid given placing a queen there\n",
        "def is_safe(board, row, col):\n",
        "    \"\"\"\n",
        "    Check if placing a queen at (row, col) is valid on this board.\n",
        "    \"\"\"\n",
        "    pass  # Need to check for attacks by existing queens"
      ],
      "metadata": {
        "id": "VZPS_HFZZAFy"
      },
      "execution_count": null,
      "outputs": []
    },
    {
      "cell_type": "code",
      "source": [
        "# Function to update the board with a new queen placement\n",
        "def place_queen(board, row, col):\n",
        "    \"\"\"\n",
        "    REQUIRES: is_safe => true\n",
        "    Place a queen at (row, col) on the board.\n",
        "    \"\"\"\n",
        "    pass  # Need to update the board with a new queen given is_safe returns true!"
      ],
      "metadata": {
        "id": "brbZXXmgZKV-"
      },
      "execution_count": null,
      "outputs": []
    },
    {
      "cell_type": "code",
      "source": [
        "def main():\n",
        "    # Get user input\n",
        "    board = get_board_input()\n",
        "\n",
        "    # Run DFS to place more queens\n",
        "    nodes_expanded, final_board = c_queensDFS(board)\n",
        "\n",
        "    # Display results\n",
        "    print(f\"Final board with maximum queens placed: {final_board}\")\n",
        "    print(f\"Total nodes expanded: {nodes_expanded}\")\n",
        "\n",
        "if __name__ == \"__main__\":\n",
        "    main()"
      ],
      "metadata": {
        "id": "gyDM2MHSZYim"
      },
      "execution_count": null,
      "outputs": []
    },
    {
      "cell_type": "markdown",
      "source": [
        "# Notes\n"
      ],
      "metadata": {
        "id": "2YlTDcpcZ2sY"
      }
    },
    {
      "cell_type": "markdown",
      "source": [
        "- **Recursive Depth-First Search (DFS)**\n",
        "  - Place max # of non-attacking queens on a **Cylindrical chessboard**.\n",
        "\n",
        "- Change the **Queen placement rules** to account for the cylindrical nature of the board\n",
        "  - First and Last columns are adjacent.\n",
        "\n",
        "- Input is a **vector `B`**\n",
        "  - `B[i]`: Column of a queen in row\n",
        "  - `i`, or `-1`: No queen is present in that row.\n",
        "\n",
        "- **Retain existing queens** from the input and place additional queens in remaining rows, replacing `-1` values.\n",
        "\n",
        "- Return **Max # of queens** that can be placed with none  attacking each other.\n",
        "\n",
        "- Can **Skip rows** and handles non-sequential queen placements.\n",
        "\n",
        "- **Track and report the total # of nodes expanded**\n",
        "\n",
        "- Modify the provided program `queenDFS.py` to implement cylindrical board logic, maximize queen placement, and handle non-sequential inputs."
      ],
      "metadata": {
        "id": "GbBNutpCbIZY"
      }
    },
    {
      "cell_type": "markdown",
      "source": [
        "# Psudocode provided:"
      ],
      "metadata": {
        "id": "dHsvrupbbCmM"
      }
    },
    {
      "cell_type": "code",
      "source": [
        "Algorithm c_queensDFS(B):\n",
        "  if no additional queens can be added to B:\n",
        "    return 1, B\n",
        "\n",
        "  count = 0\n",
        "  best = copy of B\n",
        "\n",
        "  for each cell c in B:\n",
        "    if c does not contain a queen and c is not under attack by queen in B:\n",
        "      place a queen in cell c of B\n",
        "      count1, temp = amazonDFS(B)\n",
        "      count = count + count1\n",
        "\n",
        "    if temp has more queens than best:\n",
        "      best = copy of temp\n",
        "      remove queen from cell c\n",
        "  return count+1, best"
      ],
      "metadata": {
        "id": "Jcygt99IavBE"
      },
      "execution_count": null,
      "outputs": []
    }
  ]
}