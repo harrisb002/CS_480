{
  "cells": [
    {
      "cell_type": "markdown",
      "metadata": {
        "id": "view-in-github",
        "colab_type": "text"
      },
      "source": [
        "<a href=\"https://colab.research.google.com/github/harrisb002/CS_480/blob/main/Projects/Project2.ipynb\" target=\"_parent\"><img src=\"https://colab.research.google.com/assets/colab-badge.svg\" alt=\"Open In Colab\"/></a>"
      ]
    },
    {
      "cell_type": "markdown",
      "source": [
        "# Project Introduction: Sorting by Reversal"
      ],
      "metadata": {
        "id": "N8bbpWuqP3oA"
      }
    },
    {
      "cell_type": "markdown",
      "source": [
        "---\n",
        "## Overview\n",
        "In this project, I will implement the search algorithms—Breadth-First Search (BFS),  Iterative Deepening Search (IDS), and A* search algorithm - to solve the *sorting by reversal* problem. This problem has practical applications in computational molecular biology, specifically in assessing gene sequence similarities, as described in the book *Computational Molecular Biology: An Algorithmic Approach* by Pavel A. Pevzner.\n",
        "\n",
        "---\n",
        "### Problem Statement\n",
        "The starting state of the problem is an arbitrary permutation, π, of numbers `[1, 2, …, n]`, while the goal state is the sorted sequence `[1, 2, …, n]`. To transition from the starting state to the goal state, one must select a contiguous block within the permutation and reverse it. The objective is to sort the permutation in the fewest number of reversals.\n",
        "\n",
        "**Example:**\n",
        "Given the permutation `[1, 3, 4, 2, 6, 5]`, reversing the block `[4, 2, 6]` results in the permutation `[1, 3, 6, 2, 4, 5]`.\n",
        "\n",
        "---\n",
        "### Project Requirements\n",
        "The following algorithms will be implemented:\n",
        "1. **Breadth-First Search (BFS)**\n",
        "2. **Iterative Deepening Search (IDS)**\n",
        "3. **A* Search** using an admissible heuristic `h` (described below).\n",
        "\n",
        "These implementations will use a tree-search approach, avoiding only trivial cycles of length 2. This means that for each node, all successors, except the parent node, are added to the fringe, regardless of whether they are already in or have been removed from the fringe.\n",
        "\n",
        "---\n",
        "### Heuristic Function for A* Search\n",
        "In the A* search implementation, we use a heuristic function `h` defined as follows:\n",
        "- For a given permutation π = `[x1, x2, …, xn]`, a break-point `j` is an integer such that `1 ≤ j ≤ n − 1` and `xj` and `xj+1` are not consecutive integers.\n",
        "- **Example:** The permutation `[5, 4, 6, 1, 2, 7, 3]` has four break-points.\n",
        "- The heuristic function `h(π) = 1/2 ×` the number of break-points.\n",
        "- A binary heap is used to implement the fringe (Open set) for A* search.\n",
        "\n",
        "---\n",
        "### Program Execution\n",
        "When the program is executed, it will prompt the user to enter a permutation `P` (e.g., `3 4 5 1 8 6 2 7`). The output will include:\n",
        "- The sequence of states, from the initial permutation to the sorted sequence, found by BFS and A* search, with one state per line.\n",
        "- The total CPU time used by each algorithm.\n",
        "- The total number of nodes added to the queue.\n",
        "- The maximum size of the queue during the search process.\n",
        "\n",
        "The tree-search version eliminates the need to maintain both OPEN and CLOSED sets.\n",
        "\n",
        "---\n",
        "### Constraints and Testing\n",
        "The program will be tested on input sizes up to `n ≤ 10`.\n",
        "---"
      ],
      "metadata": {
        "id": "ZbnUJIkuP8yI"
      }
    },
    {
      "cell_type": "markdown",
      "metadata": {
        "id": "fLAvO54SE70I"
      },
      "source": [
        "# Imports and Input"
      ]
    },
    {
      "cell_type": "code",
      "source": [
        "import time\n",
        "from collections import deque\n",
        "from heapq import heappush, heappop"
      ],
      "metadata": {
        "id": "lNf5jbSs1ol4"
      },
      "execution_count": 14,
      "outputs": []
    },
    {
      "cell_type": "markdown",
      "metadata": {
        "id": "ONIaqs2mGtUG"
      },
      "source": [
        "# Helper Functions"
      ]
    },
    {
      "cell_type": "code",
      "source": [
        "def get_input():\n",
        "  \"\"\"\n",
        "  Prompt for input as ints\n",
        "  Returns the input as a list of ints.\n",
        "  \"\"\"\n",
        "  input_string = input(\"Enter the numbers separated by spaces: \")\n",
        "  input_list = input_string.split() # Split by spaces\n",
        "  return [int(num) for num in input_list] # Convert to ints\n",
        "\n",
        "def is_sorted(permutation):\n",
        "  \"\"\"\n",
        "  Check if perm is sorted in asc order.\n",
        "  Parameters:\n",
        "      permutation (list): List of ints representing the curr perm.\n",
        "  Returns:\n",
        "      bool: True if list is sorted in asc order, else False.\n",
        "  \"\"\"\n",
        "  return list(permutation) == sorted(permutation)\n",
        "\n",
        "def reverse_block(state, start, end):\n",
        "  \"\"\"\n",
        "  Reverse a block of the list between specified start and end indices.\n",
        "  Parameters:\n",
        "    state (list): List of ints representing the curr state of the perm.\n",
        "    start (int): Start index of the block to reverse.\n",
        "    end (int): End index of the block to reverse.\n",
        "  Returns:\n",
        "    list: A new list with the specified block reversed.\n",
        "  \"\"\"\n",
        "  new_state = list(state)  # Convert tuple to list for mutability\n",
        "  new_state[start:end + 1] = reversed(state[start:end + 1])\n",
        "  return tuple(new_state)  # Convert back to tuple\n",
        "\n",
        "def calculate_breakpoints(permutation):\n",
        "  \"\"\"\n",
        "  Breakpoint is a position where two adjacent numbers are not consecutive.\n",
        "  Parameters:\n",
        "    permutation (list): List of ints representing the curr perm\n",
        "  Returns:\n",
        "    int: num of breakpoints in the perm\n",
        "  \"\"\"\n",
        "  breakpoints = 0\n",
        "  for i in range(len(permutation) - 1):\n",
        "      if abs(permutation[i] - permutation[i + 1]) != 1:\n",
        "          breakpoints += 1\n",
        "  return breakpoints"
      ],
      "metadata": {
        "id": "V8BUgahi12HO"
      },
      "execution_count": 15,
      "outputs": []
    },
    {
      "cell_type": "markdown",
      "metadata": {
        "id": "vUmNoNYMDz4R"
      },
      "source": [
        "# Breadth-First Search (BFS) Implementation"
      ]
    },
    {
      "cell_type": "code",
      "source": [
        "def bfs_sort_reversal(start_state):\n",
        "  \"\"\"\n",
        "  Find min num of reversals needed to sort the perm.\n",
        "\n",
        "  Parameters:\n",
        "    start_state (list): Initial unsorted perm.\n",
        "\n",
        "  Returns:\n",
        "    dict: A dict containing the results of the search, including:\n",
        "      - 'moves' (int): Num of moves to sort the perm.\n",
        "      - 'path' (list): List of states from start to goal state.\n",
        "      - 'states_visited' (int): Total num of states visited.\n",
        "      - 'max_queue_size' (int): Max size of the queue encountered.\n",
        "      - 'cpu_time' (float): Total CPU time taken.\n",
        "  \"\"\"\n",
        "  # Goal state as a sorted tuple of the input perm\n",
        "  goal_state = tuple(sorted(start_state))\n",
        "\n",
        "  # Init the queue with the start state and path\n",
        "  # Queue elements are tuples containing (current state, path to current state)\n",
        "  queue = deque([(tuple(start_state), [start_state])])\n",
        "\n",
        "  # Track visited states to prevent reprocessing\n",
        "  visited = {tuple(start_state)}\n",
        "\n",
        "  # Init metrics for tracking\n",
        "  start_time = time.time()\n",
        "  nodes_visited = 0\n",
        "  max_queue_size = 0\n",
        "\n",
        "  # BFS loop\n",
        "  while queue:\n",
        "    # Update max queue size if the curr size exceeds the prev max\n",
        "    max_queue_size = max(max_queue_size, len(queue))\n",
        "\n",
        "    # Dequeue the first element, updating the curr state and its path\n",
        "    current_state, path = queue.popleft()\n",
        "    nodes_visited += 1\n",
        "\n",
        "    # goal state found, return the results\n",
        "    if current_state == goal_state:\n",
        "      end_time = time.time()\n",
        "      return {\n",
        "        'moves': len(path) - 1,\n",
        "        'path': path,\n",
        "        'states_visited': nodes_visited,\n",
        "        'max_queue_size': max_queue_size,\n",
        "        'cpu_time': end_time - start_time\n",
        "      }\n",
        "\n",
        "    # Gen successors by reversing all possible sublists within the curr state\n",
        "    n = len(current_state)\n",
        "    for i in range(n):\n",
        "      for j in range(i + 1, n):\n",
        "        # Gen a new state by reversing the segment between indices i and j\n",
        "        new_state = tuple(reverse_block(current_state, i, j))\n",
        "\n",
        "        # If new state hasn't been visited, enqueue it\n",
        "        if new_state not in visited:\n",
        "          visited.add(new_state)\n",
        "          queue.append((new_state, path + [new_state]))\n",
        "\n",
        "  # If no solution, return fail message / metrics\n",
        "  end_time = time.time()\n",
        "  return {\n",
        "    'moves': None,\n",
        "    'path': [],\n",
        "    'states_visited': nodes_visited,\n",
        "    'max_queue_size': max_queue_size,\n",
        "    'cpu_time': end_time - start_time\n",
        "  }"
      ],
      "metadata": {
        "id": "XP0PyyhBpFvd"
      },
      "execution_count": 16,
      "outputs": []
    },
    {
      "cell_type": "markdown",
      "metadata": {
        "id": "8ITUZ_UVEFzj"
      },
      "source": [
        "# Iterative Deepening Search (IDS) Implementation\n"
      ]
    },
    {
      "cell_type": "code",
      "execution_count": 12,
      "metadata": {
        "id": "VbbLEHpkCSqh"
      },
      "outputs": [],
      "source": [
        "def ids(permutation):\n",
        "  \"\"\"\n",
        "  Perform Iterative Deepening Search (IDS) to find min numb of reversals\n",
        "  needed to sort perm in asc order.\n",
        "  Args:\n",
        "    permutation (list): A list of ints representing the given perm.\n",
        "  Returns:\n",
        "    dict: A dict containing the results of the search, including:\n",
        "      - 'moves' (int): Num of moves to sort the perm.\n",
        "      - 'path' (list): List of states from start to goal state.\n",
        "      - 'states_visited' (int): Total num of states visited.\n",
        "      - 'max_queue_size' (int): Max size of the queue encountered.\n",
        "      - 'cpu_time' (float): Total CPU time taken.\n",
        "  \"\"\"\n",
        "\n",
        "  def dls(permutation, depth, path, visited, total_states):\n",
        "    \"\"\"\n",
        "    Perform Depth-Limited Search (DLS) with the specified depth limit.\n",
        "    Args:\n",
        "      permutation (list): The current state of the perm.\n",
        "      depth (int): The current depth limit.\n",
        "      path (list): List of perms representing the path from the initial state.\n",
        "      visited (set): Set of visited perms to avoid revisiting.\n",
        "\n",
        "    Returns:\n",
        "      tuple: A tuple containing the path to the sorted perm and a boolean\n",
        "        indicating if a solution was found.\n",
        "    \"\"\"\n",
        "\n",
        "    # Base case: if depth limit is 0 and perm is sorted, solution is found.\n",
        "    if depth == 0 and is_sorted(permutation):\n",
        "      return path, True, total_states\n",
        "\n",
        "    # If we still have depth to explore, continue with recursive search.\n",
        "    elif depth > 0:\n",
        "      visited.add(tuple(permutation))  # Mark the curr perm as visited.\n",
        "\n",
        "      # Iterate over all possible reversal pairs (i, j).\n",
        "      for i in range(len(permutation)):\n",
        "        for j in range(i + 1, len(permutation)):\n",
        "          # Reverse the block between indices i and j.\n",
        "          new_permutation = reverse_block(permutation, i, j)\n",
        "          total_states += 1  # Increment total_states counter\n",
        "\n",
        "          # Continue with the search only if the new perm is not visited.\n",
        "          if new_permutation not in visited:\n",
        "            # Rec call with decreased depth and updated path.\n",
        "            result_path, found, total_states = dls(new_permutation, depth - 1, path + [new_permutation], visited, total_states)\n",
        "\n",
        "            # If a solution is found at this depth, return path.\n",
        "            if found:\n",
        "              return result_path, True, total_states\n",
        "\n",
        "\n",
        "      # Backtrack: remove the curr perm from visited set to allow others.\n",
        "      visited.remove(tuple(permutation))\n",
        "\n",
        "    # Return empty path and False if no solution was found with curr depth.\n",
        "    return [], False, total_states\n",
        "\n",
        "  # Init depth level for IDS and tracking variables.\n",
        "  depth = 0\n",
        "  total_states = 0\n",
        "  start_time = time.time()\n",
        "\n",
        "  while True:\n",
        "    visited = set()  # Reset the visited set for each new depth level.\n",
        "\n",
        "    # Run dls at the current depth level.\n",
        "    path, found, total_states = dls(permutation, depth, [permutation], visited, total_states)\n",
        "\n",
        "    # Accumulate the numof visited states across all depths.\n",
        "    total_states += len(visited)\n",
        "\n",
        "    # If DLS found a solution, print the results and exit.\n",
        "    if found:\n",
        "      end_time = time.time()\n",
        "      cpu_time = end_time - start_time\n",
        "\n",
        "      # Return a dict of results\n",
        "      return {\n",
        "      \"path\": path,\n",
        "      \"cpu_time\": cpu_time,\n",
        "      \"states_visited\": total_states,\n",
        "      \"moves\": len(path) - 1,  # Sub 1 because init state is part the path\n",
        "      \"max_queue_size\": None  # N/a\n",
        "    }\n",
        "\n",
        "    # Inc the depth limit for the next iteration of IDS.\n",
        "    depth += 1"
      ]
    },
    {
      "cell_type": "markdown",
      "metadata": {
        "id": "AKNLx79SEeVV"
      },
      "source": [
        "# A* Implementation\n"
      ]
    },
    {
      "cell_type": "code",
      "execution_count": 17,
      "metadata": {
        "id": "PnQ5oc2DCUuj"
      },
      "outputs": [],
      "source": [
        "\n",
        "def a_star_search(start_permutation):\n",
        "  \"\"\"\n",
        "  Find the min num of reversals to sort a perm\n",
        "  Parameters:\n",
        "  - start_permutation: list of ints representing the initial unsorted permutation\n",
        "  Returns:\n",
        "    dict: A dict containing the results of the search, including:\n",
        "      - 'moves' (int): Num of moves to sort the perm.\n",
        "      - 'path' (list): List of states from start to goal state.\n",
        "      - 'states_visited' (int): Total num of states visited.\n",
        "      - 'max_queue_size' (int): Max size of the queue encountered.\n",
        "      - 'cpu_time' (float): Total CPU time taken.\n",
        "  \"\"\"\n",
        "  start_time = time.time()\n",
        "  visited = set()  # Set to track visited states\n",
        "  queue = []       # Priority queue for managing search frontier\n",
        "  initial_heuristic = calculate_breakpoints(start_permutation) / 2\n",
        "\n",
        "  # (heuristic, cost, state, path)\n",
        "  heappush(queue, (initial_heuristic, 0, start_permutation, []))\n",
        "\n",
        "  # Init tracking variables\n",
        "  max_queue_size = 0     # Tracks the max queue size during the search\n",
        "  nodes_expanded = 0     # Counter for the total num of expanded nodes\n",
        "  goal_state = sorted(start_permutation)  # Define goal state as sorted perm\n",
        "\n",
        "  # A* Search loop\n",
        "  while queue:\n",
        "    # Update the max queue size if the curr size exceeds previous max\n",
        "    max_queue_size = max(max_queue_size, len(queue))\n",
        "\n",
        "    # Pop the node with the lowest heuristic value\n",
        "    heuristic, cost, current_permutation, path = heappop(queue)\n",
        "\n",
        "    # Check if the curr perm is the goal state\n",
        "    if current_permutation == goal_state:\n",
        "      total_time = time.time() - start_time\n",
        "      return {\n",
        "        'moves': cost,\n",
        "        'path': path + [current_permutation],\n",
        "        'states_visited': nodes_expanded,\n",
        "        'max_queue_size': max_queue_size,\n",
        "        'cpu_time': total_time\n",
        "      }\n",
        "\n",
        "    # Mark the current permutation as visited\n",
        "    visited.add(tuple(current_permutation))\n",
        "\n",
        "    # Generate successors by reversing all possible subarrays\n",
        "    for i in range(len(current_permutation)):\n",
        "      for j in range(i + 2, len(current_permutation) + 1):\n",
        "        # Create new perm by reversing the segment between indices i and j\n",
        "        # Use reverse_block to reverse the specified section.\n",
        "        new_permutation = list(reverse_block(current_permutation, i, j - 1))#inclusive\n",
        "\n",
        "        # If new state hasn't been visited, calculate heuristic and add to queue\n",
        "        if tuple(new_permutation) not in visited:\n",
        "          # Heuristic is half the num of breakpoints plus the current cost + 1\n",
        "          new_heuristic = (calculate_breakpoints(new_permutation) / 2) + cost + 1\n",
        "          heappush(queue, (new_heuristic, cost + 1, new_permutation, path + [current_permutation]))\n",
        "          nodes_expanded += 1"
      ]
    },
    {
      "cell_type": "markdown",
      "metadata": {
        "id": "rqSKnyHzEnv_"
      },
      "source": [
        "# Printing output:\n"
      ]
    },
    {
      "cell_type": "code",
      "execution_count": 8,
      "metadata": {
        "id": "BfWsmkcPCZIq"
      },
      "outputs": [],
      "source": [
        "def print_output(result, algorithm_name):\n",
        "  \"\"\"\n",
        "  Parameters:\n",
        "    result (dict): A dict with the results of the search, with the following keys:\n",
        "      - 'moves' (int): num of moves to sort the permutation.\n",
        "      - 'path' (list): List of states from start to goal state.\n",
        "      - 'states_visited' (int): Total num of states visited during the search.\n",
        "      - 'max_queue_size' (int): Max size of the queue (for BFS and A*).\n",
        "      - 'cpu_time' (float): Total CPU time taken by the algo.\n",
        "    algo_name (str): Name of the search algo (e.g., \"BFS\", \"IDS\", \"A*\").\n",
        "  \"\"\"\n",
        "  print(f\"Output of {algorithm_name}:\")\n",
        "  print(f\"Number of Moves to Sort: {result['moves']}\")\n",
        "  for state in result['path']:\n",
        "    print(state)\n",
        "  print(f\"The total num of states visited was {result['states_visited']}\")\n",
        "\n",
        "  # Conditionally print max queue size if provided in the result\n",
        "  if 'max_queue_size' in result:\n",
        "    print(f\"The max size of the queue was {result['max_queue_size']}\")\n",
        "\n",
        "  print(f\"The total CPU time was {result['cpu_time']:.5f} seconds\\n\")"
      ]
    },
    {
      "cell_type": "markdown",
      "metadata": {
        "id": "0ZuEZFVIExDs"
      },
      "source": [
        "# Main"
      ]
    },
    {
      "cell_type": "code",
      "execution_count": 18,
      "metadata": {
        "colab": {
          "base_uri": "https://localhost:8080/"
        },
        "id": "PVv45kYqCbdf",
        "outputId": "d9461f77-d01f-4e71-d73f-d5743b26211a"
      },
      "outputs": [
        {
          "output_type": "stream",
          "name": "stdout",
          "text": [
            "Enter the numbers separated by spaces: 1 3 5 7 9 2 4 6 8 10\n",
            "Output of BFS:\n",
            "Number of Moves to Sort: 5\n",
            "[1, 3, 5, 7, 9, 2, 4, 6, 8, 10]\n",
            "(1, 2, 9, 7, 5, 3, 4, 6, 8, 10)\n",
            "(1, 2, 6, 4, 3, 5, 7, 9, 8, 10)\n",
            "(1, 2, 3, 4, 6, 5, 7, 9, 8, 10)\n",
            "(1, 2, 3, 4, 5, 6, 7, 9, 8, 10)\n",
            "(1, 2, 3, 4, 5, 6, 7, 8, 9, 10)\n",
            "The total num of states visited was 1096477\n",
            "The max size of the queue was 1789929\n",
            "The total CPU time was 87.50556 seconds\n",
            "\n",
            "Output of A*:\n",
            "Number of Moves to Sort: 5\n",
            "[1, 3, 5, 7, 9, 2, 4, 6, 8, 10]\n",
            "[1, 2, 9, 7, 5, 3, 4, 6, 8, 10]\n",
            "[1, 2, 6, 4, 3, 5, 7, 9, 8, 10]\n",
            "[1, 2, 3, 4, 6, 5, 7, 9, 8, 10]\n",
            "[1, 2, 3, 4, 5, 6, 7, 9, 8, 10]\n",
            "[1, 2, 3, 4, 5, 6, 7, 8, 9, 10]\n",
            "The total num of states visited was 5569\n",
            "The max size of the queue was 5442\n",
            "The total CPU time was 0.02731 seconds\n",
            "\n",
            "Output of IDS:\n",
            "Number of Moves to Sort: 5\n",
            "[1, 3, 5, 7, 9, 2, 4, 6, 8, 10]\n",
            "(1, 2, 9, 7, 5, 3, 4, 6, 8, 10)\n",
            "(1, 2, 6, 4, 3, 5, 7, 9, 8, 10)\n",
            "(1, 2, 3, 4, 6, 5, 7, 9, 8, 10)\n",
            "(1, 2, 3, 4, 5, 6, 7, 9, 8, 10)\n",
            "(1, 2, 3, 4, 5, 6, 7, 8, 9, 10)\n",
            "The total num of states visited was 52976788\n",
            "The max size of the queue was None\n",
            "The total CPU time was 115.46017 seconds\n",
            "\n"
          ]
        }
      ],
      "source": [
        "if __name__ == \"__main__\":\n",
        "\n",
        "  # Get input from user\n",
        "  start_permutation = get_input()\n",
        "\n",
        "  # Run BFS\n",
        "  bfs_result = bfs_sort_reversal(start_permutation)\n",
        "  print_output(bfs_result, \"BFS\")\n",
        "\n",
        "  # Run A*\n",
        "  astar_result = a_star_search(start_permutation)\n",
        "  print_output(astar_result, \"A*\")\n",
        "\n",
        "  # Run IDS\n",
        "  ids_result = ids(start_permutation)\n",
        "  print_output(ids_result, \"IDS\")"
      ]
    },
    {
      "cell_type": "code",
      "source": [
        "# Get input from user\n",
        "start_permutation = get_input()\n",
        "\n",
        "# Run IDS\n",
        "ids_result = ids(start_permutation)\n",
        "print_output(ids_result, \"IDS\")"
      ],
      "metadata": {
        "id": "ncCt6lWgpwhi",
        "colab": {
          "base_uri": "https://localhost:8080/"
        },
        "outputId": "4282abaf-9b3f-43df-87f2-c8f94672f108"
      },
      "execution_count": 13,
      "outputs": [
        {
          "output_type": "stream",
          "name": "stdout",
          "text": [
            "Enter the numbers separated by spaces: 9 1 6 3 4 5 7 2 8\n",
            "Output of IDS:\n",
            "Number of Moves to Sort: 5\n",
            "[9, 1, 6, 3, 4, 5, 7, 2, 8]\n",
            "(1, 9, 6, 3, 4, 5, 7, 2, 8)\n",
            "(1, 2, 7, 5, 4, 3, 6, 9, 8)\n",
            "(1, 2, 3, 4, 5, 7, 6, 9, 8)\n",
            "(1, 2, 3, 4, 5, 6, 7, 9, 8)\n",
            "(1, 2, 3, 4, 5, 6, 7, 8, 9)\n",
            "The total num of states visited was 2248629\n",
            "The max size of the queue was None\n",
            "The total CPU time was 4.41656 seconds\n",
            "\n"
          ]
        }
      ]
    }
  ],
  "metadata": {
    "colab": {
      "collapsed_sections": [
        "N8bbpWuqP3oA",
        "fLAvO54SE70I",
        "ONIaqs2mGtUG",
        "vUmNoNYMDz4R",
        "AKNLx79SEeVV"
      ],
      "provenance": [],
      "authorship_tag": "ABX9TyMZSfiUvk+8+pWUOQOdYXdj",
      "include_colab_link": true
    },
    "kernelspec": {
      "display_name": "Python 3",
      "name": "python3"
    },
    "language_info": {
      "name": "python"
    }
  },
  "nbformat": 4,
  "nbformat_minor": 0
}